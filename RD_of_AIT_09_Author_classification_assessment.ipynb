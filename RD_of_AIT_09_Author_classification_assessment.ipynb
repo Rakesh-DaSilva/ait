{
  "nbformat": 4,
  "nbformat_minor": 0,
  "metadata": {
    "kernelspec": {
      "display_name": "Python 3",
      "language": "python",
      "name": "python3"
    },
    "language_info": {
      "codemirror_mode": {
        "name": "ipython",
        "version": 3
      },
      "file_extension": ".py",
      "mimetype": "text/x-python",
      "name": "python",
      "nbconvert_exporter": "python",
      "pygments_lexer": "ipython3",
      "version": "3.6.6"
    },
    "colab": {
      "provenance": [],
      "include_colab_link": true
    }
  },
  "cells": [
    {
      "cell_type": "markdown",
      "metadata": {
        "id": "view-in-github",
        "colab_type": "text"
      },
      "source": [
        "<a href=\"https://colab.research.google.com/github/Rakesh-DaSilva/ait/blob/main/RD_of_AIT_09_Author_classification_assessment.ipynb\" target=\"_parent\"><img src=\"https://colab.research.google.com/assets/colab-badge.svg\" alt=\"Open In Colab\"/></a>"
      ]
    },
    {
      "cell_type": "markdown",
      "metadata": {
        "id": "_jiGtJu6u9ml"
      },
      "source": [
        "# Copyright\n",
        "\n",
        "<PRE>\n",
        "Copyright (c) 2021 Bálint Gyires-Tóth - All Rights Reserved\n",
        "You may use and modify this code for research and development purpuses.\n",
        "Use this code for educational purposes (self-paced or instructor led) without the permission of the author is prohibited.\n",
        "</PRE>"
      ]
    },
    {
      "cell_type": "markdown",
      "metadata": {
        "id": "oXyFC44jV-PP"
      },
      "source": [
        "# Author classification\n",
        "The task is to train a 1D CNN or an LSTM that is able to  classify text from two authors. The final model should be able to tell about a text with a given length (e.g. 60 characters) who wrote it. \n",
        "\n",
        "Please write the codes according to the following parts:"
      ]
    },
    {
      "cell_type": "markdown",
      "metadata": {
        "id": "jCnLoeGrHXsp"
      },
      "source": [
        "## Python module imports\n",
        "Import all Python modules that you would need during the Assignment."
      ]
    },
    {
      "cell_type": "code",
      "metadata": {
        "id": "7itbFGt3HXVT"
      },
      "source": [
        "from tensorflow.keras.models import Sequential\n",
        "from tensorflow.keras.layers import Dense, Activation, Dropout\n",
        "from tensorflow.keras.layers import LSTM\n",
        "from tensorflow.keras.optimizers import RMSprop\n",
        "from urllib.request import urlretrieve\n",
        "import numpy as np\n",
        "import random\n",
        "import sys\n",
        "import re, cgi\n",
        "import seaborn as sns\n",
        "import matplotlib.pyplot as plt\n",
        "import pandas as pd\n",
        "from sklearn.utils import shuffle"
      ],
      "execution_count": 1,
      "outputs": []
    },
    {
      "cell_type": "markdown",
      "metadata": {
        "id": "Hr617tEpHd8R"
      },
      "source": [
        "## Data acquisition\n",
        "Seek a possible dataset, you can use any source, e.g.\n",
        "* http://www.gutenberg.org/\n",
        "* https://www.kaggle.com/datasets\n",
        "* https://paperswithcode.com/datasets\n",
        "* if you would like to learn Hungarian, than e.g. https://mek.oszk.hu/\n",
        "\n",
        "You can download the text by hand (e.g. by copy-pasting some parts into txt files) or with Python. "
      ]
    },
    {
      "cell_type": "code",
      "metadata": {
        "id": "NgkdQxHqHdZB",
        "colab": {
          "base_uri": "https://localhost:8080/"
        },
        "outputId": "df787908-5e5a-4a6a-bfb3-11bda006468c"
      },
      "source": [
        "#Ulysses by James Joyce\n",
        "url_book=\"https://www.gutenberg.org/files/4300/4300-0.txt\"\n",
        "urlretrieve(url_book, 'book.txt')\n",
        "ulysses = open(\"book.txt\", encoding='utf-8').read().lower()\n",
        "\n",
        "\n",
        "\n",
        "url_book=\"https://www.gutenberg.org/files/2701/2701-0.txt\"\n",
        "urlretrieve(url_book, 'book.txt')\n",
        "moby = open(\"book.txt\", encoding='utf-8').read().lower()\n",
        "\n",
        "moby = moby[:int(len(moby) *.5)]\n",
        "ulysses = ulysses[:int(len(ulysses) *.5)]\n",
        "\n",
        "print('Number of characters in the ulysses:', len(ulysses))\n",
        "print('Number of characters in the moby:', len(moby))"
      ],
      "execution_count": 2,
      "outputs": [
        {
          "output_type": "stream",
          "name": "stdout",
          "text": [
            "Number of characters in the ulysses: 769528\n",
            "Number of characters in the moby: 619177\n"
          ]
        }
      ]
    },
    {
      "cell_type": "markdown",
      "source": [
        "## Data analysis\n",
        "Count the number of characters from both authors and display them on a plot (e.g. Seaborn's countplot)."
      ],
      "metadata": {
        "id": "U9Pmq91t3SRD"
      }
    },
    {
      "cell_type": "code",
      "source": [
        "import numpy as np\n",
        "import matplotlib.pyplot as plt\n",
        "\n",
        "data = {'ulysses': len(ulysses), 'Moby Dick': len(moby)}\n",
        "  \n",
        "fig = plt.figure(figsize = (10, 5))\n",
        " \n",
        "# creating the bar plot\n",
        "plt.bar(list(data.keys()), list(data.values()))\n",
        " \n",
        "plt.xlabel(\"Title\")\n",
        "plt.ylabel(\"Words\")\n",
        "plt.show()"
      ],
      "metadata": {
        "id": "uRqGdn4F3Spk",
        "colab": {
          "base_uri": "https://localhost:8080/",
          "height": 466
        },
        "outputId": "be58a122-fcd0-43c3-d374-a8bd38e84307"
      },
      "execution_count": 3,
      "outputs": [
        {
          "output_type": "display_data",
          "data": {
            "text/plain": [
              "<Figure size 1000x500 with 1 Axes>"
            ],
            "image/png": "[encoded data removed]"
          },
          "metadata": {}
        }
      ]
    },
    {
      "cell_type": "markdown",
      "metadata": {
        "id": "cHyE_ndGIblJ"
      },
      "source": [
        "## Data loading, labeling and preprocessing\n",
        "Load the data and convert the characters into one-hot encodings. Then load the data into a 3D NumPy array, with a shape of\n",
        "\n",
        "* (batch, sequence_length, alphabet_length)\n",
        "\n",
        "where sequence_length=60, and alphabet_length equals to the number of unique characters in both datasets. The sequences should be cut out from the complete dataset by sliding window. You should add 0 and 1 labels to the sequences, according to the author. \n",
        "\n",
        "Later you may change sequence_length to achieve better results!"
      ]
    },
    {
      "cell_type": "code",
      "metadata": {
        "id": "arooXt0WIb6x",
        "colab": {
          "base_uri": "https://localhost:8080/"
        },
        "outputId": "61a44da8-d377-4f41-c1d7-8b0c67216b0c"
      },
      "source": [
        "combined = moby + ulysses\n",
        "chars = sorted(list(set(combined)))\n",
        "print('Unique characters of the book:', len(chars))"
      ],
      "execution_count": 4,
      "outputs": [
        {
          "output_type": "stream",
          "name": "stdout",
          "text": [
            "Unique characters of the book: 87\n"
          ]
        }
      ]
    },
    {
      "cell_type": "code",
      "source": [
        "char_indices = dict((c, i) for i, c in enumerate(chars))\n",
        "indices_char = dict((i, c) for i, c in enumerate(chars))\n",
        "\n",
        "print (\"Indices to char dictionary:\", indices_char)"
      ],
      "metadata": {
        "colab": {
          "base_uri": "https://localhost:8080/"
        },
        "id": "kcRDuLIM7jFb",
        "outputId": "c2f29011-93d0-4f95-bcfe-c822cc8eb08e"
      },
      "execution_count": 5,
      "outputs": [
        {
          "output_type": "stream",
          "name": "stdout",
          "text": [
            "Indices to char dictionary: {0: '\\n', 1: ' ', 2: '!', 3: '#', 4: '$', 5: '&', 6: '(', 7: ')', 8: '*', 9: ',', 10: '-', 11: '.', 12: '/', 13: '0', 14: '1', 15: '2', 16: '3', 17: '4', 18: '5', 19: '6', 20: '7', 21: '8', 22: '9', 23: ':', 24: ';', 25: '?', 26: '[', 27: ']', 28: '_', 29: 'a', 30: 'b', 31: 'c', 32: 'd', 33: 'e', 34: 'f', 35: 'g', 36: 'h', 37: 'i', 38: 'j', 39: 'k', 40: 'l', 41: 'm', 42: 'n', 43: 'o', 44: 'p', 45: 'q', 46: 'r', 47: 's', 48: 't', 49: 'u', 50: 'v', 51: 'w', 52: 'x', 53: 'y', 54: 'z', 55: '£', 56: 'à', 57: 'á', 58: 'æ', 59: 'ç', 60: 'è', 61: 'é', 62: 'ê', 63: 'î', 64: 'ñ', 65: 'ò', 66: 'ó', 67: 'ô', 68: 'ö', 69: 'ù', 70: 'ú', 71: 'ü', 72: 'ā', 73: 'œ', 74: 'η', 75: 'ο', 76: 'ς', 77: 'τ', 78: 'ϰ', 79: 'ו', 80: 'ח', 81: '—', 82: '‘', 83: '’', 84: '“', 85: '”', 86: '\\ufeff'}\n"
          ]
        }
      ]
    },
    {
      "cell_type": "code",
      "source": [
        "sequence_length=60\n",
        "step = 20\n",
        "alphabet_length = len(chars)\n",
        "moby_sentences = []\n",
        "moby_label = []\n",
        "ulysses_sentences = []\n",
        "ulysses_label = []"
      ],
      "metadata": {
        "id": "6tzE7i_f8eVz"
      },
      "execution_count": 6,
      "outputs": []
    },
    {
      "cell_type": "code",
      "source": [
        "for i in range(0, len(moby)-sequence_length, step):\n",
        "    moby_sentences.append(moby[i:i+sequence_length])\n",
        "    moby_label.append(1)\n",
        "\n",
        "for i in range(0, len(ulysses)-sequence_length, step):\n",
        "    ulysses_sentences.append(ulysses[i:i+sequence_length])\n",
        "    ulysses_label.append(0)"
      ],
      "metadata": {
        "id": "Tq5YGh7i9IRU"
      },
      "execution_count": 7,
      "outputs": []
    },
    {
      "cell_type": "code",
      "source": [
        "print('Number of training samples moby:', len(moby_sentences)) \n",
        "print('Number of training samples ulysses:', len(ulysses_sentences)) "
      ],
      "metadata": {
        "colab": {
          "base_uri": "https://localhost:8080/"
        },
        "id": "mM9FYKOd-SPX",
        "outputId": "b6c22278-ad40-4c5d-810d-d3b6a5154f93"
      },
      "execution_count": 8,
      "outputs": [
        {
          "output_type": "stream",
          "name": "stdout",
          "text": [
            "Number of training samples moby: 30956\n",
            "Number of training samples ulysses: 38474\n"
          ]
        }
      ]
    },
    {
      "cell_type": "code",
      "source": [
        "sentences = moby_sentences + ulysses_sentences\n",
        "labels = np.array(moby_label + ulysses_label)\n",
        "\n",
        "X = np.zeros((len(sentences), sequence_length, len(chars)))\n",
        "Xmoby = np.zeros((len(moby_sentences), sequence_length, len(chars)))\n",
        "XU = np.zeros((len(ulysses_sentences), sequence_length, len(chars)))\n"
      ],
      "metadata": {
        "id": "yV0T3qTNBBeF"
      },
      "execution_count": 9,
      "outputs": []
    },
    {
      "cell_type": "code",
      "source": [
        "\"\"\"for i, sentence in enumerate(sentences):\n",
        "    for t, char in enumerate(sentence): \n",
        "        X[i,t,char_indices[char]] = 1\n",
        "X.shape\"\"\""
      ],
      "metadata": {
        "colab": {
          "base_uri": "https://localhost:8080/",
          "height": 36
        },
        "id": "rc7NmIrxKYAs",
        "outputId": "beae85d0-c33c-4459-8e53-ac2f3dbcdf0d"
      },
      "execution_count": 10,
      "outputs": [
        {
          "output_type": "execute_result",
          "data": {
            "text/plain": [
              "'for i, sentence in enumerate(sentences):\\n    for t, char in enumerate(sentence): \\n        X[i,t,char_indices[char]] = 1\\nX.shape'"
            ],
            "application/vnd.google.colaboratory.intrinsic+json": {
              "type": "string"
            }
          },
          "metadata": {},
          "execution_count": 10
        }
      ]
    },
    {
      "cell_type": "code",
      "source": [
        "#X, y = shuffle(X, labels, random_state=0)"
      ],
      "metadata": {
        "id": "bASrgeBfKrYF"
      },
      "execution_count": 11,
      "outputs": []
    },
    {
      "cell_type": "code",
      "source": [
        "for i, sentence in enumerate(moby_sentences):\n",
        "    for t, char in enumerate(sentence): \n",
        "        Xmoby[i,t,char_indices[char]] = 1\n",
        "\n",
        "for i, sentence in enumerate(ulysses_sentences):\n",
        "    for t, char in enumerate(sentence): \n",
        "        XU[i,t,char_indices[char]] = 1\n",
        "\n",
        "#print (\"Shape of the input data:\", X.shape)\n",
        "#print (\"Shape of the target data:\", labels.shape)\n",
        "\n",
        "np.random.shuffle(Xmoby)\n",
        "np.random.shuffle(XU)"
      ],
      "metadata": {
        "id": "WJ85NkaSFBDw"
      },
      "execution_count": 12,
      "outputs": []
    },
    {
      "cell_type": "markdown",
      "metadata": {
        "id": "lL1Mc8ibHnep"
      },
      "source": [
        "## Data splitting\n",
        "Split the data into train, validate and test sets. Make "
      ]
    },
    {
      "cell_type": "code",
      "source": [
        "train = 0.7\n",
        "validation = 0.2\n",
        "test = 0.1\n",
        "\n"
      ],
      "metadata": {
        "id": "TGtUMraINAT2"
      },
      "execution_count": 13,
      "outputs": []
    },
    {
      "cell_type": "code",
      "source": [
        "trainMint = int(len(Xmoby)*train)\n",
        "validMint = int(len(Xmoby)*(train+validation))\n",
        "trainUint = int(len(XU)*train)\n",
        "validUint = int(len(XU)*(train+validation))\n",
        "\n",
        "trainM = Xmoby[:trainMint]\n",
        "validM = Xmoby[trainMint:validMint]\n",
        "testM = Xmoby[validMint:]\n",
        "\n",
        "trainU = XU[:trainUint]\n",
        "validU = XU[trainUint:validUint]\n",
        "testU = XU[validUint:]\n",
        "\n",
        "train = np.concatenate((trainM, trainU), axis=0)\n",
        "valid = np.concatenate((validM, validU), axis=0)\n",
        "test = np.concatenate((testM, testU), axis=0)\n",
        "\n",
        "\n",
        "Mclass = np.array([[1,0]])\n",
        "Uclass = np.array([[0,1]])\n",
        "\n",
        "ytrain = np.concatenate((np.repeat(Mclass, len(trainM), axis=0), np.repeat(Uclass, len(trainU), axis=0)), axis=0)\n",
        "yvalid = np.concatenate((np.repeat(Mclass, len(validM), axis=0), np.repeat(Uclass, len(validU), axis=0)), axis=0)\n",
        "ytest = np.concatenate((np.repeat(Mclass, len(testM), axis=0), np.repeat(Uclass, len(testU), axis=0)), axis=0)\n",
        "\n",
        "#ytrain = np.concatenate((np.ones(len(trainM)), np.zeros(len(trainU))), axis=0)\n",
        "#yvalid = np.concatenate((np.ones(len(validM)), np.zeros(len(validU))), axis=0)\n",
        "#ytest = np.concatenate((np.ones(len(testM)), np.zeros(len(testU))), axis=0)\n",
        "\n",
        "print(len(train) + len(valid) + len(test))\n",
        "print(len(ytrain) + len(yvalid) + len(ytest))"
      ],
      "metadata": {
        "colab": {
          "base_uri": "https://localhost:8080/"
        },
        "id": "QWnDo_GE61XA",
        "outputId": "061edbe0-4b3e-4906-9eea-f0ddaacac8fd"
      },
      "execution_count": 14,
      "outputs": [
        {
          "output_type": "stream",
          "name": "stdout",
          "text": [
            "69430\n",
            "69430\n"
          ]
        }
      ]
    },
    {
      "cell_type": "code",
      "metadata": {
        "id": "ELyG9XFUHrkB",
        "colab": {
          "base_uri": "https://localhost:8080/"
        },
        "outputId": "3b898415-8850-494c-e9df-18031398c485"
      },
      "source": [
        "print(len(train))\n",
        "print(len(ytrain))\n",
        "print(ytrain.shape)\n"
      ],
      "execution_count": 24,
      "outputs": [
        {
          "output_type": "stream",
          "name": "stdout",
          "text": [
            "48600\n",
            "48600\n",
            "(48600, 2)\n"
          ]
        }
      ]
    },
    {
      "cell_type": "markdown",
      "metadata": {
        "id": "hA8U9tr7HrNQ"
      },
      "source": [
        "## Model definition\n",
        "Define a 1D CNN or an LSTM for the task. Compile the model with the correct loss function."
      ]
    },
    {
      "cell_type": "code",
      "source": [
        "from tensorflow.keras.models import Sequential\n",
        "from tensorflow.keras.utils import to_categorical\n",
        "from tensorflow.keras.layers import Activation, Dense, Flatten, Conv1D, MaxPooling1D, Dropout\n",
        "from tensorflow.keras.callbacks import EarlyStopping\n",
        "from tensorflow.keras.optimizers import SGD"
      ],
      "metadata": {
        "id": "rbQP2wstQR01"
      },
      "execution_count": 16,
      "outputs": []
    },
    {
      "cell_type": "code",
      "metadata": {
        "id": "BT1V1s4kHuUe"
      },
      "source": [
        "nb_filter       = 20   # number of filter/kernels in the convolutional layers\n",
        "filter_length   = 10  # length of the filter/kernel in the convolutional layers\n",
        "window_size     = train.shape[1] # the window size defined by the dataset\n",
        "nb_features     = train.shape[2] # the number of features of the input data\n",
        "nb_outputs      = ytrain.shape[1] # the number of outputs (defined by the target data)"
      ],
      "execution_count": 25,
      "outputs": []
    },
    {
      "cell_type": "code",
      "source": [
        "'''model = Sequential()\n",
        "model.add(Conv1D(filters=nb_filter, kernel_size=filter_length, activation='selu', kernel_initializer='he_normal', input_shape=(window_size, nb_features)))\n",
        "model.add(MaxPooling1D(2))\n",
        "model.add(Dropout(0.2))\n",
        "model.add(Conv1D(filters=nb_filter, kernel_size=filter_length, activation='relu', kernel_initializer='he_normal', padding = 'same'))\n",
        "model.add(MaxPooling1D(2))\n",
        "model.add(Dropout(0.2))\n",
        "model.add(Flatten())\n",
        "model.add(Dense(128, activation='selu'))\n",
        "model.add(Dropout(0.2))\n",
        "model.add(Dense(nb_outputs, activation='softmax'))'''"
      ],
      "metadata": {
        "id": "EzKG9205Pkae",
        "colab": {
          "base_uri": "https://localhost:8080/",
          "height": 91
        },
        "outputId": "80305d09-864a-46dd-86b6-e7e35075c832"
      },
      "execution_count": 26,
      "outputs": [
        {
          "output_type": "execute_result",
          "data": {
            "text/plain": [
              "\"model = Sequential()\\nmodel.add(Conv1D(filters=nb_filter, kernel_size=filter_length, activation='selu', kernel_initializer='he_normal', input_shape=(window_size, nb_features)))\\nmodel.add(MaxPooling1D(2))\\nmodel.add(Dropout(0.2))\\nmodel.add(Conv1D(filters=nb_filter, kernel_size=filter_length, activation='relu', kernel_initializer='he_normal', padding = 'same'))\\nmodel.add(MaxPooling1D(2))\\nmodel.add(Dropout(0.2))\\nmodel.add(Flatten())\\nmodel.add(Dense(128, activation='selu'))\\nmodel.add(Dropout(0.2))\\nmodel.add(Dense(nb_outputs, activation='softmax'))\""
            ],
            "application/vnd.google.colaboratory.intrinsic+json": {
              "type": "string"
            }
          },
          "metadata": {},
          "execution_count": 26
        }
      ]
    },
    {
      "cell_type": "code",
      "source": [
        "model = Sequential()\n",
        "model.add(Conv1D(filters=nb_filter, kernel_size=filter_length, activation='relu', kernel_initializer='he_normal', input_shape=(window_size, nb_features)))\n",
        "model.add(MaxPooling1D())\n",
        "model.add(Dropout(0.3))\n",
        "model.add(Conv1D(filters=nb_filter, kernel_size=filter_length, activation='relu', kernel_initializer='he_normal'))\n",
        "model.add(MaxPooling1D())\n",
        "model.add(Dropout(0.3))\n",
        "model.add(Flatten())\n",
        "model.add(Dense(128, activation='relu'))\n",
        "model.add(Dropout(0.3))\n",
        "model.add(Dense(nb_outputs, activation='softmax'))\n"
      ],
      "metadata": {
        "id": "FYN1Qr5naLgG"
      },
      "execution_count": 27,
      "outputs": []
    },
    {
      "cell_type": "markdown",
      "metadata": {
        "id": "hWFb-nAMHuAI"
      },
      "source": [
        "## Model training\n",
        "Train the model and apply early stopping."
      ]
    },
    {
      "cell_type": "code",
      "metadata": {
        "id": "dvgKjqp3Hwkp"
      },
      "source": [
        "model.compile(loss='categorical_crossentropy', optimizer='adam', metrics=['accuracy'])"
      ],
      "execution_count": 28,
      "outputs": []
    },
    {
      "cell_type": "code",
      "source": [
        "model.summary()"
      ],
      "metadata": {
        "colab": {
          "base_uri": "https://localhost:8080/"
        },
        "id": "Vcz2EMoZaTmC",
        "outputId": "bd1f0991-18ae-4c43-c7b6-4edb9f613e09"
      },
      "execution_count": 29,
      "outputs": [
        {
          "output_type": "stream",
          "name": "stdout",
          "text": [
            "Model: \"sequential_1\"\n",
            "_________________________________________________________________\n",
            " Layer (type)                Output Shape              Param #   \n",
            "=================================================================\n",
            " conv1d_2 (Conv1D)           (None, 51, 20)            17420     \n",
            "                                                                 \n",
            " max_pooling1d_2 (MaxPooling  (None, 25, 20)           0         \n",
            " 1D)                                                             \n",
            "                                                                 \n",
            " dropout_3 (Dropout)         (None, 25, 20)            0         \n",
            "                                                                 \n",
            " conv1d_3 (Conv1D)           (None, 16, 20)            4020      \n",
            "                                                                 \n",
            " max_pooling1d_3 (MaxPooling  (None, 8, 20)            0         \n",
            " 1D)                                                             \n",
            "                                                                 \n",
            " dropout_4 (Dropout)         (None, 8, 20)             0         \n",
            "                                                                 \n",
            " flatten_1 (Flatten)         (None, 160)               0         \n",
            "                                                                 \n",
            " dense_2 (Dense)             (None, 128)               20608     \n",
            "                                                                 \n",
            " dropout_5 (Dropout)         (None, 128)               0         \n",
            "                                                                 \n",
            " dense_3 (Dense)             (None, 2)                 258       \n",
            "                                                                 \n",
            "=================================================================\n",
            "Total params: 42,306\n",
            "Trainable params: 42,306\n",
            "Non-trainable params: 0\n",
            "_________________________________________________________________\n"
          ]
        }
      ]
    },
    {
      "cell_type": "code",
      "source": [
        "es = EarlyStopping(patience=20, restore_best_weights=True, monitor=\"val_loss\")"
      ],
      "metadata": {
        "id": "PKkNiDwBaYxW"
      },
      "execution_count": 30,
      "outputs": []
    },
    {
      "cell_type": "code",
      "source": [
        "model.fit(train, ytrain, \n",
        "          epochs=20, batch_size=1, \n",
        "          validation_data=(valid, yvalid),\n",
        "          callbacks=[es],\n",
        "          verbose=2)"
      ],
      "metadata": {
        "colab": {
          "base_uri": "https://localhost:8080/"
        },
        "id": "j2pfZqNRacik",
        "outputId": "92bff11d-63fb-410a-fbb6-f68a5e3c59fc"
      },
      "execution_count": 31,
      "outputs": [
        {
          "output_type": "stream",
          "name": "stdout",
          "text": [
            "Epoch 1/20\n",
            "48600/48600 - 137s - loss: 0.4445 - accuracy: 0.7805 - val_loss: 0.3487 - val_accuracy: 0.8411 - 137s/epoch - 3ms/step\n",
            "Epoch 2/20\n",
            "48600/48600 - 125s - loss: 0.3620 - accuracy: 0.8403 - val_loss: 0.3346 - val_accuracy: 0.8625 - 125s/epoch - 3ms/step\n",
            "Epoch 3/20\n",
            "48600/48600 - 124s - loss: 0.3464 - accuracy: 0.8523 - val_loss: 0.3172 - val_accuracy: 0.8614 - 124s/epoch - 3ms/step\n",
            "Epoch 4/20\n",
            "48600/48600 - 124s - loss: 0.3331 - accuracy: 0.8597 - val_loss: 0.3019 - val_accuracy: 0.8766 - 124s/epoch - 3ms/step\n",
            "Epoch 5/20\n",
            "48600/48600 - 123s - loss: 0.3172 - accuracy: 0.8675 - val_loss: 0.2937 - val_accuracy: 0.8794 - 123s/epoch - 3ms/step\n",
            "Epoch 6/20\n",
            "48600/48600 - 124s - loss: 0.3144 - accuracy: 0.8681 - val_loss: 0.3005 - val_accuracy: 0.8634 - 124s/epoch - 3ms/step\n",
            "Epoch 7/20\n",
            "48600/48600 - 124s - loss: 0.3080 - accuracy: 0.8735 - val_loss: 0.2994 - val_accuracy: 0.8810 - 124s/epoch - 3ms/step\n",
            "Epoch 8/20\n",
            "48600/48600 - 124s - loss: 0.3095 - accuracy: 0.8762 - val_loss: 0.2895 - val_accuracy: 0.8802 - 124s/epoch - 3ms/step\n",
            "Epoch 9/20\n",
            "48600/48600 - 123s - loss: 0.3011 - accuracy: 0.8773 - val_loss: 0.2901 - val_accuracy: 0.8827 - 123s/epoch - 3ms/step\n",
            "Epoch 10/20\n",
            "48600/48600 - 123s - loss: 0.3032 - accuracy: 0.8788 - val_loss: 0.2826 - val_accuracy: 0.8802 - 123s/epoch - 3ms/step\n",
            "Epoch 11/20\n",
            "48600/48600 - 123s - loss: 0.3033 - accuracy: 0.8821 - val_loss: 0.2894 - val_accuracy: 0.8753 - 123s/epoch - 3ms/step\n",
            "Epoch 12/20\n",
            "48600/48600 - 124s - loss: 0.3029 - accuracy: 0.8806 - val_loss: 0.2908 - val_accuracy: 0.8865 - 124s/epoch - 3ms/step\n",
            "Epoch 13/20\n",
            "48600/48600 - 124s - loss: 0.2947 - accuracy: 0.8823 - val_loss: 0.2848 - val_accuracy: 0.8810 - 124s/epoch - 3ms/step\n",
            "Epoch 14/20\n",
            "48600/48600 - 124s - loss: 0.2988 - accuracy: 0.8815 - val_loss: 0.2965 - val_accuracy: 0.8663 - 124s/epoch - 3ms/step\n",
            "Epoch 15/20\n",
            "48600/48600 - 123s - loss: 0.3098 - accuracy: 0.8815 - val_loss: 0.2853 - val_accuracy: 0.8818 - 123s/epoch - 3ms/step\n",
            "Epoch 16/20\n",
            "48600/48600 - 125s - loss: 0.2979 - accuracy: 0.8819 - val_loss: 0.2783 - val_accuracy: 0.8855 - 125s/epoch - 3ms/step\n",
            "Epoch 17/20\n",
            "48600/48600 - 124s - loss: 0.3053 - accuracy: 0.8800 - val_loss: 0.2772 - val_accuracy: 0.8866 - 124s/epoch - 3ms/step\n",
            "Epoch 18/20\n",
            "48600/48600 - 123s - loss: 0.2953 - accuracy: 0.8801 - val_loss: 0.2873 - val_accuracy: 0.8917 - 123s/epoch - 3ms/step\n",
            "Epoch 19/20\n",
            "48600/48600 - 123s - loss: 0.3100 - accuracy: 0.8816 - val_loss: 0.2823 - val_accuracy: 0.8904 - 123s/epoch - 3ms/step\n",
            "Epoch 20/20\n",
            "48600/48600 - 123s - loss: 0.3005 - accuracy: 0.8820 - val_loss: 0.2788 - val_accuracy: 0.8864 - 123s/epoch - 3ms/step\n"
          ]
        },
        {
          "output_type": "execute_result",
          "data": {
            "text/plain": [
              "<keras.callbacks.History at 0x7fcc38ecdca0>"
            ]
          },
          "metadata": {},
          "execution_count": 31
        }
      ]
    },
    {
      "cell_type": "markdown",
      "metadata": {
        "id": "0omw2XzSHwOo"
      },
      "source": [
        "## Evaluation on test data\n",
        "Evaluate the model on the test data in terms of loss and accuracy."
      ]
    },
    {
      "cell_type": "code",
      "metadata": {
        "id": "4bF3dQA1Hv_R",
        "colab": {
          "base_uri": "https://localhost:8080/"
        },
        "outputId": "5484df5b-2776-4220-a97c-b262cbce4575"
      },
      "source": [
        "eval = model.evaluate(test,ytest)\n",
        "print(\"Test loss:\",eval[0])\n",
        "print(\"Test accuracy:\",eval[1])"
      ],
      "execution_count": 32,
      "outputs": [
        {
          "output_type": "stream",
          "name": "stdout",
          "text": [
            "217/217 [==============================] - 1s 4ms/step - loss: 0.2852 - accuracy: 0.8836\n",
            "Test loss: 0.2851916253566742\n",
            "Test accuracy: 0.8836405277252197\n"
          ]
        }
      ]
    },
    {
      "cell_type": "markdown",
      "metadata": {
        "id": "4Y73Q-h5Hz1r"
      },
      "source": [
        "## Confusion matrix\n",
        "Calculate and display the confusion matrix."
      ]
    },
    {
      "cell_type": "code",
      "metadata": {
        "id": "cW8zZi1uJm2B"
      },
      "source": [
        "from sklearn.metrics import confusion_matrix, classification_report"
      ],
      "execution_count": 33,
      "outputs": []
    },
    {
      "cell_type": "code",
      "source": [
        "preds = model.predict(test)"
      ],
      "metadata": {
        "colab": {
          "base_uri": "https://localhost:8080/"
        },
        "id": "wDZIyu9te7uu",
        "outputId": "96c74cda-ab31-4064-dcb8-0a58627c7a97"
      },
      "execution_count": 34,
      "outputs": [
        {
          "output_type": "stream",
          "name": "stdout",
          "text": [
            "217/217 [==============================] - 1s 6ms/step\n"
          ]
        }
      ]
    },
    {
      "cell_type": "code",
      "source": [
        "print(classification_report(np.argmax(ytest,1),np.argmax(preds,1)))"
      ],
      "metadata": {
        "colab": {
          "base_uri": "https://localhost:8080/"
        },
        "id": "uwVfh4KIglO_",
        "outputId": "9d56be4a-f056-4ee1-90d1-cc609d05ab9b"
      },
      "execution_count": 38,
      "outputs": [
        {
          "output_type": "stream",
          "name": "stdout",
          "text": [
            "              precision    recall  f1-score   support\n",
            "\n",
            "           0       0.94      0.79      0.86      3096\n",
            "           1       0.85      0.96      0.90      3848\n",
            "\n",
            "    accuracy                           0.88      6944\n",
            "   macro avg       0.89      0.87      0.88      6944\n",
            "weighted avg       0.89      0.88      0.88      6944\n",
            "\n"
          ]
        }
      ]
    },
    {
      "cell_type": "code",
      "source": [
        "conf=confusion_matrix(np.argmax(ytest,1),np.argmax(preds,1))\n",
        "sns.heatmap(conf, annot=True, fmt='d')"
      ],
      "metadata": {
        "colab": {
          "base_uri": "https://localhost:8080/",
          "height": 448
        },
        "id": "TImZTC9Wgm_a",
        "outputId": "d8695089-4c8b-48c1-b614-4e44acd14b3b"
      },
      "execution_count": 40,
      "outputs": [
        {
          "output_type": "execute_result",
          "data": {
            "text/plain": [
              "<Axes: >"
            ]
          },
          "metadata": {},
          "execution_count": 40
        },
        {
          "output_type": "display_data",
          "data": {
            "text/plain": [
              "<Figure size 640x480 with 2 Axes>"
            ],
            "image/png": "[encoded data removed]"
          },
          "metadata": {}
        }
      ]
    },
    {
      "cell_type": "code",
      "source": [],
      "metadata": {
        "id": "P81xlV88p93R"
      },
      "execution_count": null,
      "outputs": []
    }
  ]
}