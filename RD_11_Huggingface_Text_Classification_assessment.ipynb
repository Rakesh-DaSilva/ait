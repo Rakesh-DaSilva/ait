{
  "cells": [
    {
      "cell_type": "markdown",
      "metadata": {
        "id": "view-in-github",
        "colab_type": "text"
      },
      "source": [
        "<a href=\"https://colab.research.google.com/github/Rakesh-DaSilva/ait/blob/main/RD_11_Huggingface_Text_Classification_assessment.ipynb\" target=\"_parent\"><img src=\"https://colab.research.google.com/assets/colab-badge.svg\" alt=\"Open In Colab\"/></a>"
      ]
    },
    {
      "cell_type": "markdown",
      "metadata": {
        "id": "htO7JShhI4sa"
      },
      "source": [
        "## Assessment: Classifying authors with DistilBERT\n",
        "Please use the HuggingFace Transformer library for author classification:\n",
        "* use the DistilBERT architecture this time,\n",
        "* collect data from 4 authors,\n",
        "* create, train and evaluate a classifier with DistilBERT and 4 authors.\n",
        "\n"
      ]
    },
    {
      "cell_type": "code",
      "execution_count": 2,
      "metadata": {
        "id": "hsdBQBpDAX5X"
      },
      "outputs": [],
      "source": [
        "%%capture\n",
        "!pip install tensorflow transformers\n",
        "!python -m spacy download en"
      ]
    },
    {
      "cell_type": "code",
      "execution_count": 43,
      "metadata": {
        "id": "wew63ncSAmvw"
      },
      "outputs": [],
      "source": [
        "import tensorflow as tf\n",
        "from tensorflow.keras import activations, optimizers, losses\n",
        "from transformers import DistilBertTokenizer, TFDistilBertForSequenceClassification\n",
        "import pickle\n",
        "import spacy\n",
        "from urllib.request import urlretrieve\n",
        "from sklearn.metrics import classification_report, confusion_matrix\n",
        "import seaborn as sns\n",
        "import numpy as np"
      ]
    },
    {
      "cell_type": "markdown",
      "metadata": {
        "id": "C1uUKILjBqq1"
      },
      "source": [
        "## 1. Exercise: Dataset acquisition"
      ]
    },
    {
      "cell_type": "code",
      "source": [
        "nlp = spacy.load(\"en_core_web_sm\")\n",
        "\n",
        "def sentencesSplit(raw_text):\n",
        "  doc = nlp(raw_text)\n",
        "  sentences = [sent.text for sent in doc.sents]\n",
        "  return sentences\n"
      ],
      "metadata": {
        "id": "p9fAu51wXiW6"
      },
      "execution_count": 44,
      "outputs": []
    },
    {
      "cell_type": "code",
      "source": [
        "book1=\"http://www.gutenberg.org/files/2151/2151-0.txt\"\n",
        "book2=\"https://www.gutenberg.org/cache/epub/70589/pg70589.txt\"\n",
        "book3=\"https://www.gutenberg.org/files/4300/4300-0.txt\"\n",
        "book4=\"https://www.gutenberg.org/files/2701/2701-0.txt\"\n",
        "urlretrieve(book1, 'book1.txt')\n",
        "urlretrieve(book2, 'book2.txt')\n",
        "urlretrieve(book3, 'book3.txt')\n",
        "urlretrieve(book4, 'book4.txt')\n",
        "book1_text = open(\"book1.txt\", encoding='utf-8').read().lower()\n",
        "book2_text = open(\"book2.txt\", encoding='utf-8').read().lower()\n",
        "book3_text = open(\"book3.txt\", encoding='utf-8').read().lower()\n",
        "book4_text = open(\"book4.txt\", encoding='utf-8').read().lower()"
      ],
      "metadata": {
        "id": "oyYxDTArW8us"
      },
      "execution_count": 61,
      "outputs": []
    },
    {
      "cell_type": "code",
      "source": [
        "minlen = min([len(book1_text), len(book2_text), len(book3_text), len(book4_text)])\n",
        "minlen"
      ],
      "metadata": {
        "colab": {
          "base_uri": "https://localhost:8080/"
        },
        "id": "EhGqPmJgnwvL",
        "outputId": "c81bafb9-a5be-4bc8-c3a0-57ec22dc9491"
      },
      "execution_count": 62,
      "outputs": [
        {
          "output_type": "execute_result",
          "data": {
            "text/plain": [
              "391953"
            ]
          },
          "metadata": {},
          "execution_count": 62
        }
      ]
    },
    {
      "cell_type": "code",
      "source": [
        "book1_sents = sentencesSplit(book1_text[:minlen])\n",
        "book2_sents = sentencesSplit(book2_text[:minlen])\n",
        "book3_sents = sentencesSplit(book3_text[:minlen])\n",
        "book4_sents = sentencesSplit(book4_text[:minlen])"
      ],
      "metadata": {
        "id": "4z_e_aSvX1_l"
      },
      "execution_count": 63,
      "outputs": []
    },
    {
      "cell_type": "code",
      "source": [
        "TRAIN_SIZE = 0.8\n",
        "t_split_1  = int(TRAIN_SIZE*len(book1_sents))\n",
        "t_split_2  = int(TRAIN_SIZE*len(book2_sents))\n",
        "t_split_3  = int(TRAIN_SIZE*len(book3_sents))\n",
        "t_split_4  = int(TRAIN_SIZE*len(book4_sents))"
      ],
      "metadata": {
        "id": "Xp4SGIWO1kBp"
      },
      "execution_count": 64,
      "outputs": []
    },
    {
      "cell_type": "code",
      "source": [
        "print(len(book1_sents))\n",
        "print(len(book2_sents))\n",
        "print(len(book3_sents))\n",
        "print(len(book4_sents))\n",
        "\n",
        "print(t_split_1)"
      ],
      "metadata": {
        "colab": {
          "base_uri": "https://localhost:8080/"
        },
        "id": "Jy4I3VFMc3EM",
        "outputId": "79ead136-6c65-452b-a9e8-6475dc8fd0b8"
      },
      "execution_count": 65,
      "outputs": [
        {
          "output_type": "stream",
          "name": "stdout",
          "text": [
            "2569\n",
            "3476\n",
            "8382\n",
            "3477\n",
            "2055\n"
          ]
        }
      ]
    },
    {
      "cell_type": "code",
      "source": [
        "X_train = book1_sents[:t_split_1] + book2_sents[:t_split_2] + book3_sents[:t_split_3] + book4_sents[:t_split_4]\n",
        "Y_train = np.concatenate((np.zeros((t_split_1)), np.ones((t_split_2)), np.full((t_split_3), 2), np.full((t_split_4), 3)))\n",
        "\n",
        "X_test  = book1_sents[t_split_1:] + book2_sents[t_split_2:] + book3_sents[t_split_3:] +  book4_sents[t_split_4:]\n",
        "Y_test  = np.concatenate((np.zeros((len(book1_sents) - t_split_1)), np.ones((len(book2_sents) - t_split_2)), np.full(len(book3_sents) - t_split_3, 2), np.full(len(book4_sents) - t_split_4, 3)))"
      ],
      "metadata": {
        "id": "2_m0goznY-gH"
      },
      "execution_count": 66,
      "outputs": []
    },
    {
      "cell_type": "markdown",
      "metadata": {
        "id": "v06X47TXFFup"
      },
      "source": [
        "# 2. Exercise: Data preparation\n",
        "\n",
        "We are using [DisitlBERT](https://huggingface.co/transformers/model_doc/distilbert.html) model, in which we have to convert each sentence into a tuple containing the text's [input ids](https://huggingface.co/transformers/glossary.html#input-ids) and the corresponding [attention masks](https://huggingface.co/transformers/glossary.html#attention-mask). In order to do so, the corresponding tokizer can be used: [DistilBertTokenizer](https://huggingface.co/transformers/model_doc/distilbert.html#distilberttokenizer)\n",
        "\n",
        "We trim or pad the processed sentences to MAX_LEN (due to `truncation=True` and `padding=True` parameters) - this is an easy solution to handle inputs with different lengths."
      ]
    },
    {
      "cell_type": "code",
      "execution_count": 67,
      "metadata": {
        "id": "V3NrIFRoBR0z",
        "colab": {
          "base_uri": "https://localhost:8080/"
        },
        "outputId": "534f538b-1920-4b7c-96ff-9772d5518eb8"
      },
      "outputs": [
        {
          "output_type": "stream",
          "name": "stdout",
          "text": [
            "sentence: 'there are, nevertheless, three or\n",
            "      four female heads, of an ethereal beauty-portraits in the manner of sully.\n",
            "      '\n",
            "input ids: [101, 2045, 2024, 1010, 6600, 1010, 2093, 2030, 2176, 2931, 4641, 1010, 1997, 2019, 28855, 15879, 5053, 1011, 9668, 102]\n",
            "attention mask: [1, 1, 1, 1, 1, 1, 1, 1, 1, 1, 1, 1, 1, 1, 1, 1, 1, 1, 1, 1]\n"
          ]
        }
      ],
      "source": [
        "MODEL_NAME = 'distilbert-base-uncased'\n",
        "MAX_LEN = 20\n",
        "\n",
        "sample = X_train[100]\n",
        "\n",
        "\n",
        "tokenizer = DistilBertTokenizer.from_pretrained(MODEL_NAME)\n",
        "inputs = tokenizer(sample, max_length=MAX_LEN, truncation=True, padding=True)\n",
        "\n",
        "print(f'sentence: \\'{sample}\\'')\n",
        "print(f'input ids: {inputs[\"input_ids\"]}')\n",
        "print(f'attention mask: {inputs[\"attention_mask\"]}')"
      ]
    },
    {
      "cell_type": "markdown",
      "metadata": {
        "id": "HMgiD2cgATjr"
      },
      "source": [
        "This transformation must be applied to each sentence in the corpus. Here's how we do it: `construct_encodings` maps the tokenizer to each `sentence` and aggregates them:"
      ]
    },
    {
      "cell_type": "code",
      "execution_count": 68,
      "metadata": {
        "id": "Ycf5U8fj6ocz"
      },
      "outputs": [],
      "source": [
        "def construct_encodings(x, tokenizer, max_len, trucation=True, padding=True):\n",
        "    return tokenizer(x, max_length=max_len, truncation=trucation, padding=padding)\n",
        "    \n",
        "encodings_train = construct_encodings(X_train, tokenizer, max_len=MAX_LEN)\n",
        "encodings_test  = construct_encodings(X_test, tokenizer, max_len=MAX_LEN)"
      ]
    },
    {
      "cell_type": "markdown",
      "metadata": {
        "id": "qbSYjFOlOut5"
      },
      "source": [
        "Now we have to convert the `encodings` and `y` (which holds the classes of the authors) into a [Tensorflow Dataset object](https://www.tensorflow.org/api_docs/python/tf/data/Dataset):\n",
        "\n"
      ]
    },
    {
      "cell_type": "code",
      "execution_count": 69,
      "metadata": {
        "id": "HyOQIPhX6ocz"
      },
      "outputs": [],
      "source": [
        "def construct_tfdataset(encodings, y=None):\n",
        "    if y is not None:\n",
        "        return tf.data.Dataset.from_tensor_slices((dict(encodings),y))\n",
        "    else:\n",
        "        # this case is used when making predictions on unseen samples after training\n",
        "        return tf.data.Dataset.from_tensor_slices(dict(encodings))\n",
        "    \n",
        "tfdataset_train = construct_tfdataset(encodings_train, Y_train)\n",
        "tfdataset_test  = construct_tfdataset(encodings_test, Y_test)"
      ]
    },
    {
      "cell_type": "markdown",
      "metadata": {
        "id": "xUo15LYpPqI1"
      },
      "source": [
        "Shuffle the training data and create batches."
      ]
    },
    {
      "cell_type": "code",
      "execution_count": 70,
      "metadata": {
        "id": "fKTJqUF5R-o4"
      },
      "outputs": [],
      "source": [
        "BATCH_SIZE = 16\n",
        "\n",
        "tfdataset_train = tfdataset_train.shuffle(len(X_train))\n",
        "tfdataset_train = tfdataset_train.take(len(X_train))\n",
        "tfdataset_test = tfdataset_test.take(len(X_test))\n",
        "tfdataset_train = tfdataset_train.batch(BATCH_SIZE)\n",
        "tfdataset_test = tfdataset_test.batch(BATCH_SIZE)"
      ]
    },
    {
      "cell_type": "markdown",
      "metadata": {
        "id": "6Nqs83LVFUQE"
      },
      "source": [
        "Our data is finally ready. Now we can do the fun part: model fitting!"
      ]
    },
    {
      "cell_type": "markdown",
      "metadata": {
        "id": "40Hk-8fDR_Pg"
      },
      "source": [
        "# 3. Exercise: Fine-tuning the model\n",
        "\n",
        "Fine-tuning the model is as easy as instantiating a model instance, [optimizer](https://developers.google.com/machine-learning/glossary#optimizer), and [loss](https://developers.google.com/machine-learning/glossary#loss), and then compiling/fitting:"
      ]
    },
    {
      "cell_type": "code",
      "execution_count": 71,
      "metadata": {
        "id": "rVU_LoASQMcp",
        "colab": {
          "base_uri": "https://localhost:8080/"
        },
        "outputId": "f44c12c4-8ab9-458b-eed0-709c1c8cb6cc"
      },
      "outputs": [
        {
          "output_type": "stream",
          "name": "stderr",
          "text": [
            "Some layers from the model checkpoint at distilbert-base-uncased were not used when initializing TFDistilBertForSequenceClassification: ['activation_13', 'vocab_projector', 'vocab_layer_norm', 'vocab_transform']\n",
            "- This IS expected if you are initializing TFDistilBertForSequenceClassification from the checkpoint of a model trained on another task or with another architecture (e.g. initializing a BertForSequenceClassification model from a BertForPreTraining model).\n",
            "- This IS NOT expected if you are initializing TFDistilBertForSequenceClassification from the checkpoint of a model that you expect to be exactly identical (initializing a BertForSequenceClassification model from a BertForSequenceClassification model).\n",
            "Some layers of TFDistilBertForSequenceClassification were not initialized from the model checkpoint at distilbert-base-uncased and are newly initialized: ['pre_classifier', 'classifier', 'dropout_159']\n",
            "You should probably TRAIN this model on a down-stream task to be able to use it for predictions and inference.\n"
          ]
        },
        {
          "output_type": "stream",
          "name": "stdout",
          "text": [
            "Epoch 1/2\n",
            "896/896 [==============================] - 94s 77ms/step - loss: 0.5244 - accuracy: 0.7988 - val_loss: 0.5255 - val_accuracy: 0.7988\n",
            "Epoch 2/2\n",
            "896/896 [==============================] - 56s 62ms/step - loss: 0.2532 - accuracy: 0.9117 - val_loss: 0.5438 - val_accuracy: 0.8102\n"
          ]
        },
        {
          "output_type": "execute_result",
          "data": {
            "text/plain": [
              "<keras.callbacks.History at 0x7fe65006a230>"
            ]
          },
          "metadata": {},
          "execution_count": 71
        }
      ],
      "source": [
        "N_EPOCHS = 2\n",
        "\n",
        "model = TFDistilBertForSequenceClassification.from_pretrained(MODEL_NAME,num_labels=4)\n",
        "optimizer = optimizers.Adam(learning_rate=2e-5)\n",
        "loss = losses.SparseCategoricalCrossentropy(from_logits=True)\n",
        "model.compile(optimizer=optimizer, loss=loss, metrics=['accuracy'], )\n",
        "\n",
        "model.fit(tfdataset_train, batch_size=BATCH_SIZE, epochs=N_EPOCHS, validation_data=tfdataset_test)"
      ]
    },
    {
      "cell_type": "markdown",
      "metadata": {
        "id": "Sgz5Jfi9cmDv"
      },
      "source": [
        "## 4. Exercise: Evaluation"
      ]
    },
    {
      "cell_type": "markdown",
      "metadata": {
        "id": "KBYlX43STjhl"
      },
      "source": [
        "Let's test our model with the test set and the default classification metrics."
      ]
    },
    {
      "cell_type": "code",
      "execution_count": 72,
      "metadata": {
        "id": "QhmogfJhco0T",
        "colab": {
          "base_uri": "https://localhost:8080/"
        },
        "outputId": "27748f06-6b86-49e2-b533-9c7d9c3dc235"
      },
      "outputs": [
        {
          "output_type": "stream",
          "name": "stdout",
          "text": [
            "224/224 [==============================] - 6s 26ms/step - loss: 0.5438 - accuracy: 0.8102\n",
            "{'loss': 0.5437526106834412, 'accuracy': 0.8102148771286011}\n"
          ]
        }
      ],
      "source": [
        "print(model.evaluate(tfdataset_test, return_dict=True, batch_size=BATCH_SIZE))"
      ]
    },
    {
      "cell_type": "code",
      "source": [
        "preds = model.predict(tfdataset_test, batch_size=BATCH_SIZE)\n",
        "preds_classes = np.argmax(preds[0], axis=1)"
      ],
      "metadata": {
        "id": "rktYMdbT5IHh",
        "colab": {
          "base_uri": "https://localhost:8080/"
        },
        "outputId": "0e2f58bf-2807-4c16-baaf-00e5504a15c8"
      },
      "execution_count": 73,
      "outputs": [
        {
          "output_type": "stream",
          "name": "stdout",
          "text": [
            "224/224 [==============================] - 6s 19ms/step\n"
          ]
        }
      ]
    },
    {
      "cell_type": "code",
      "source": [
        "print(classification_report(Y_test, preds_classes))"
      ],
      "metadata": {
        "id": "hOmlbMFe5edo",
        "colab": {
          "base_uri": "https://localhost:8080/"
        },
        "outputId": "fd873035-5121-454b-a4b2-edb6e63dbb15"
      },
      "execution_count": 74,
      "outputs": [
        {
          "output_type": "stream",
          "name": "stdout",
          "text": [
            "              precision    recall  f1-score   support\n",
            "\n",
            "         0.0       0.62      0.55      0.59       514\n",
            "         1.0       0.90      0.85      0.87       696\n",
            "         2.0       0.83      0.94      0.88      1677\n",
            "         3.0       0.79      0.66      0.72       696\n",
            "\n",
            "    accuracy                           0.81      3583\n",
            "   macro avg       0.79      0.75      0.76      3583\n",
            "weighted avg       0.81      0.81      0.81      3583\n",
            "\n"
          ]
        }
      ]
    },
    {
      "cell_type": "code",
      "source": [
        "\n",
        "\n",
        "conf=confusion_matrix(Y_test, preds_classes)\n",
        "sns.heatmap(conf, annot=True, fmt='d')\n",
        "\n"
      ],
      "metadata": {
        "id": "NMBfI5ph5kEY",
        "colab": {
          "base_uri": "https://localhost:8080/",
          "height": 448
        },
        "outputId": "8ea5b87f-b1f7-4e3a-9209-5db952a00e22"
      },
      "execution_count": 75,
      "outputs": [
        {
          "output_type": "execute_result",
          "data": {
            "text/plain": [
              "<Axes: >"
            ]
          },
          "metadata": {},
          "execution_count": 75
        },
        {
          "output_type": "display_data",
          "data": {
            "text/plain": [
              "<Figure size 640x480 with 2 Axes>"
            ],
            "image/png": "[encoded data removed]"
          },
          "metadata": {}
        }
      ]
    },
    {
      "cell_type": "code",
      "source": [],
      "metadata": {
        "id": "GqlM8tX5ro78"
      },
      "execution_count": null,
      "outputs": []
    }
  ],
  "metadata": {
    "colab": {
      "provenance": [],
      "include_colab_link": true
    },
    "kernelspec": {
      "display_name": "Python 3",
      "language": "python",
      "name": "python3"
    },
    "language_info": {
      "codemirror_mode": {
        "name": "ipython",
        "version": 3
      },
      "file_extension": ".py",
      "mimetype": "text/x-python",
      "name": "python",
      "nbconvert_exporter": "python",
      "pygments_lexer": "ipython3",
      "version": "3.8.5"
    },
    "accelerator": "GPU",
    "gpuClass": "standard"
  },
  "nbformat": 4,
  "nbformat_minor": 0
}