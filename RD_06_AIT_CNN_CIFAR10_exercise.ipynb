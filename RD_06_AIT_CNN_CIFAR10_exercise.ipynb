{
  "nbformat": 4,
  "nbformat_minor": 0,
  "metadata": {
    "anaconda-cloud": {},
    "kernelspec": {
      "display_name": "Python 3",
      "language": "python",
      "name": "python3"
    },
    "language_info": {
      "codemirror_mode": {
        "name": "ipython",
        "version": 3
      },
      "file_extension": ".py",
      "mimetype": "text/x-python",
      "name": "python",
      "nbconvert_exporter": "python",
      "pygments_lexer": "ipython3",
      "version": "3.6.6"
    },
    "colab": {
      "provenance": [],
      "include_colab_link": true
    },
    "accelerator": "GPU"
  },
  "cells": [
    {
      "cell_type": "markdown",
      "metadata": {
        "id": "view-in-github",
        "colab_type": "text"
      },
      "source": [
        "<a href=\"https://colab.research.google.com/github/Rakesh-DaSilva/ait/blob/main/RD_06_AIT_CNN_CIFAR10_exercise.ipynb\" target=\"_parent\"><img src=\"https://colab.research.google.com/assets/colab-badge.svg\" alt=\"Open In Colab\"/></a>"
      ]
    },
    {
      "cell_type": "markdown",
      "metadata": {
        "id": "cW-EyI5Lxpqi"
      },
      "source": [
        "# Copyright\n",
        "\n",
        "<PRE>\n",
        "Copyright (c) 2023 Bálint Gyires-Tóth - All Rights Reserved\n",
        "You may use and modify this code for research and development purpuses.\n",
        "Using this code for educational purposes (self-paced or instructor led) without the permission of the author is prohibited.\n",
        "</PRE>"
      ]
    },
    {
      "cell_type": "markdown",
      "source": [
        "# Convolutional Neural Network exercise\n",
        "\n",
        "In this notebook, you will build a convolutional neural network, which offers superior results over the previous MLP solution. Additionally, you will perform a more detailed evaluation.  "
      ],
      "metadata": {
        "id": "3EX4cCa4WKJu"
      }
    },
    {
      "cell_type": "code",
      "source": [
        "# imports \n",
        "from tensorflow.keras.datasets import cifar10\n",
        "from tensorflow.keras.utils import to_categorical\n",
        "import numpy as np\n",
        "import matplotlib.pyplot as plt\n",
        "from tensorflow.keras.models import Sequential\n",
        "from tensorflow.keras.layers import Dense, Conv2D, MaxPool2D, Flatten, Dropout, BatchNormalization\n",
        "from tensorflow.keras.initializers import HeNormal\n",
        "from tensorflow.keras.callbacks import EarlyStopping"
      ],
      "metadata": {
        "id": "GdCMhy4HA2qd"
      },
      "execution_count": 1,
      "outputs": []
    },
    {
      "cell_type": "markdown",
      "source": [
        "# 1. Data\n",
        "The dataset we will use is the well-known CIFAR10 (Canadian Institute For Advanced Research). Explore the details on the Keras website first: https://keras.io/api/datasets/cifar10/\n",
        "\n",
        "There isn't much difference between the data preprocessing part and the one we did before. The only difference is that we don't have to reshape images into vectors, but we are working with a 4 dimensional data structure, where the dimensions are: batch, X, Y, and color channels. \n",
        "\n",
        "In the event that anything is not clear regarding the data preparation part, please check the previous CIFAR10 notebook."
      ],
      "metadata": {
        "id": "yY9fztIeWIKt"
      }
    },
    {
      "cell_type": "code",
      "source": [
        "(X_train, Y_train), (X_test, Y_test) = cifar10.load_data()"
      ],
      "metadata": {
        "id": "bez7q0eiWQCK",
        "colab": {
          "base_uri": "https://localhost:8080/"
        },
        "outputId": "4a513cd2-8027-463e-8c84-a4650c4cc08f"
      },
      "execution_count": 2,
      "outputs": [
        {
          "output_type": "stream",
          "name": "stdout",
          "text": [
            "Downloading data from https://www.cs.toronto.edu/~kriz/cifar-10-python.tar.gz\n",
            "170498071/170498071 [==============================] - 13s 0us/step\n"
          ]
        }
      ]
    },
    {
      "cell_type": "code",
      "source": [
        "# it is in int8 format, the neural network requires float32\n",
        "X_train = X_train.astype(\"float32\")\n",
        "X_test = X_test.astype(\"float32\")"
      ],
      "metadata": {
        "id": "vukOcBM0XzSj"
      },
      "execution_count": 3,
      "outputs": []
    },
    {
      "cell_type": "code",
      "source": [
        "train_ratio  = 0.8\n",
        "train_length = X_train.shape[0]\n",
        "train_split  = int(train_ratio*train_length)\n",
        "X_valid, Y_valid = X_train[train_split:], Y_train[train_split:]\n",
        "X_train, Y_train = X_train[:train_split], Y_train[:train_split]"
      ],
      "metadata": {
        "id": "mRwuWxxIxLgN"
      },
      "execution_count": 4,
      "outputs": []
    },
    {
      "cell_type": "code",
      "source": [
        "mean = X_train.mean(axis=0)\n",
        "std  = X_train.std(axis=0)\n",
        "\n",
        "X_train = (X_train-mean)/std\n",
        "X_valid = (X_valid-mean)/std\n",
        "X_test  = (X_test-mean)/std"
      ],
      "metadata": {
        "id": "2ESLP1EIyB2J"
      },
      "execution_count": 5,
      "outputs": []
    },
    {
      "cell_type": "code",
      "source": [
        "nb_classes = len(np.unique(Y_train))\n",
        "Y_train = to_categorical(Y_train, nb_classes)\n",
        "Y_valid = to_categorical(Y_valid, nb_classes)\n",
        "Y_test  = to_categorical(Y_test, nb_classes)"
      ],
      "metadata": {
        "id": "xwZ4OJ6I8lba"
      },
      "execution_count": 6,
      "outputs": []
    },
    {
      "cell_type": "code",
      "source": [
        "print(\"Shapes of the training, validation and test input data:\", X_train.shape, X_valid.shape, X_test.shape)\n",
        "print(\"Shapes of the training, validation and test output data:\", Y_train.shape, Y_valid.shape, Y_test.shape)\n",
        "print(\"Mean values of the training, validation and test input data:\", X_train.mean(), X_valid.mean(), X_test.mean())\n",
        "print(\"Standard deviation of the training, validation and test input data:\", X_train.std(), X_valid.std(), X_test.std())"
      ],
      "metadata": {
        "id": "O_jdJVcvX0vi",
        "colab": {
          "base_uri": "https://localhost:8080/"
        },
        "outputId": "d8c5ad0a-75ae-496b-8484-c2ae489e1fde"
      },
      "execution_count": 7,
      "outputs": [
        {
          "output_type": "stream",
          "name": "stdout",
          "text": [
            "Shapes of the training, validation and test input data: (40000, 32, 32, 3) (10000, 32, 32, 3) (10000, 32, 32, 3)\n",
            "Shapes of the training, validation and test output data: (40000, 10) (10000, 10) (10000, 10)\n",
            "Mean values of the training, validation and test input data: 2.2788842e-09 0.0023437198 0.013331206\n",
            "Standard deviation of the training, validation and test input data: 1.0000023 0.9965626 0.99783075\n"
          ]
        }
      ]
    },
    {
      "cell_type": "markdown",
      "metadata": {
        "id": "cJ14oyZExpqj"
      },
      "source": [
        "# 2. Exercise: training"
      ]
    },
    {
      "cell_type": "markdown",
      "source": [
        "Create and train a convolutional neural network with the following requirements:\n",
        "* apply early stopping with patience=5 and monitor the validation accuracy, don't forget to load back the best weights after early stopping\n",
        "* the number of trainable parameters is lower than 200.000\n",
        "* the validation accuracy must be higher than 72%\n",
        "\n",
        "Hints:\n",
        "* you can always inspect the number of trainable parameters per layer with model.summary()\n",
        "* usually the most trainable parameters are between the last convolutional layer and the next dense layer -- so you should have a reasonable output size at the last convolutional layer\n",
        "* regularization helps (e.g. DropOut and/or BatchNormalization)\n",
        "* use the right activation function at the output layer and the corresponding loss function\n",
        "* for the chosen activation functions, please use the appropriate initialization method\n",
        "* ADAM optimizer is a reasonable choice \n",
        "* don't forget to turn on GPU support in Colab, otherwise, it would be quite slow to train the networks\n",
        "\n",
        "you can match the dimension of the last conv/pooling layer to the next dense layer with e.g. Flatten()\n",
        "\n",
        "1st dense with the last convolutional LibraryLoader\n",
        "softmax\n",
        "(32,32,3)"
      ],
      "metadata": {
        "id": "j1tGVPdD-pp3"
      }
    },
    {
      "cell_type": "code",
      "source": [
        "es = EarlyStopping(\n",
        "    monitor='val_accuracy',\n",
        "    min_delta=0,\n",
        "    patience=5,\n",
        "    verbose=0,\n",
        "    mode='auto',\n",
        "    baseline=None,\n",
        "    restore_best_weights=True,\n",
        "    start_from_epoch=0\n",
        ")\n"
      ],
      "metadata": {
        "id": "5dBQxJHIHrbd"
      },
      "execution_count": 8,
      "outputs": []
    },
    {
      "cell_type": "code",
      "source": [
        "from ctypes import LibraryLoader\n",
        "# model definition\n",
        "model = Sequential()\n",
        "model.add(Conv2D(32, 2, input_shape=((32,32,3))))\n",
        "model.add(Conv2D(64, 3, activation='relu', kernel_initializer=HeNormal()))\n",
        "model.add(MaxPool2D((2, 2)))\n",
        "model.add(Conv2D(64, 2, activation='relu', kernel_initializer=HeNormal()))\n",
        "model.add(Conv2D(64, 2, activation='relu', kernel_initializer=HeNormal()))\n",
        "#model.add(Conv2D(128, 3, activation='relu', kernel_initializer=HeNormal()))\n",
        "#model.add(Conv2D(128, 3, activation='relu', kernel_initializer=HeNormal()))\n",
        "model.add(MaxPool2D((2, 2)))\n",
        "model.add(Dropout(0.2))\n",
        "model.add(Conv2D(128, 2, activation='relu', kernel_initializer=HeNormal()))\n",
        "model.add(Conv2D(64, 3, activation='relu', kernel_initializer=HeNormal()))\n",
        "#model.add(Conv2D(128, 3, activation='relu', kernel_initializer=HeNormal()))\n",
        "#model.add(MaxPool2D((2, 2)))\n",
        "#model.add(Conv2D(256, 3, activation='relu', kernel_initializer=HeNormal()))\n",
        "model.add(Flatten())\n",
        "#model.add(Dense(64, activation='relu', kernel_initializer=HeNormal()))\n",
        "model.add(Dropout(0.2))\n",
        "model.add(Dense(64, activation='relu', kernel_initializer=HeNormal()))\n",
        "model.add(Dense(16, activation='relu', kernel_initializer=HeNormal()))\n",
        "#model.add(Dense(16, activation='relu', kernel_initializer=HeNormal()))\n",
        "\n",
        "model.add(Dense(nb_classes, activation='softmax'))\n",
        "# loss function and optimizer\n",
        "model.compile(loss='categorical_crossentropy', optimizer='adam', metrics=['accuracy'])"
      ],
      "metadata": {
        "id": "PuxHOqLt-3Nd"
      },
      "execution_count": 133,
      "outputs": []
    },
    {
      "cell_type": "code",
      "source": [
        "model.summary()"
      ],
      "metadata": {
        "id": "5eomQw8uE9Ix",
        "colab": {
          "base_uri": "https://localhost:8080/"
        },
        "outputId": "8d89aaad-27b7-4ab9-ebdb-1b1237220f28"
      },
      "execution_count": 134,
      "outputs": [
        {
          "output_type": "stream",
          "name": "stdout",
          "text": [
            "Model: \"sequential_45\"\n",
            "_________________________________________________________________\n",
            " Layer (type)                Output Shape              Param #   \n",
            "=================================================================\n",
            " conv2d_208 (Conv2D)         (None, 31, 31, 32)        416       \n",
            "                                                                 \n",
            " conv2d_209 (Conv2D)         (None, 29, 29, 64)        18496     \n",
            "                                                                 \n",
            " max_pooling2d_65 (MaxPoolin  (None, 14, 14, 64)       0         \n",
            " g2D)                                                            \n",
            "                                                                 \n",
            " conv2d_210 (Conv2D)         (None, 13, 13, 64)        16448     \n",
            "                                                                 \n",
            " conv2d_211 (Conv2D)         (None, 12, 12, 64)        16448     \n",
            "                                                                 \n",
            " max_pooling2d_66 (MaxPoolin  (None, 6, 6, 64)         0         \n",
            " g2D)                                                            \n",
            "                                                                 \n",
            " dropout_36 (Dropout)        (None, 6, 6, 64)          0         \n",
            "                                                                 \n",
            " conv2d_212 (Conv2D)         (None, 5, 5, 128)         32896     \n",
            "                                                                 \n",
            " conv2d_213 (Conv2D)         (None, 3, 3, 64)          73792     \n",
            "                                                                 \n",
            " flatten_39 (Flatten)        (None, 576)               0         \n",
            "                                                                 \n",
            " dropout_37 (Dropout)        (None, 576)               0         \n",
            "                                                                 \n",
            " dense_128 (Dense)           (None, 64)                36928     \n",
            "                                                                 \n",
            " dense_129 (Dense)           (None, 16)                1040      \n",
            "                                                                 \n",
            " dense_130 (Dense)           (None, 10)                170       \n",
            "                                                                 \n",
            "=================================================================\n",
            "Total params: 196,634\n",
            "Trainable params: 196,634\n",
            "Non-trainable params: 0\n",
            "_________________________________________________________________\n"
          ]
        }
      ]
    },
    {
      "cell_type": "markdown",
      "source": [
        "Please, check the number of trainable paramers:"
      ],
      "metadata": {
        "id": "8tIbIIeTEI41"
      }
    },
    {
      "cell_type": "code",
      "source": [
        "print(\"#trainable parameters:\",model.count_params())"
      ],
      "metadata": {
        "id": "xdBAG7EJETlX",
        "colab": {
          "base_uri": "https://localhost:8080/"
        },
        "outputId": "90b05b79-a1f8-4650-ba65-55b6f6c1560b"
      },
      "execution_count": 135,
      "outputs": [
        {
          "output_type": "stream",
          "name": "stdout",
          "text": [
            "#trainable parameters: 196634\n"
          ]
        }
      ]
    },
    {
      "cell_type": "code",
      "source": [
        "# training\n",
        "network_history = model.fit(X_train, Y_train, \n",
        "                            validation_data=(X_valid,Y_valid),\n",
        "                            batch_size=128,                             \n",
        "                            epochs=40, \n",
        "                            verbose=1,\n",
        "                            callbacks=es)"
      ],
      "metadata": {
        "id": "u8tFNCNVHyt9",
        "colab": {
          "base_uri": "https://localhost:8080/"
        },
        "outputId": "b65bd2d3-ec4b-49b8-a2fe-aca88783b711"
      },
      "execution_count": 136,
      "outputs": [
        {
          "output_type": "stream",
          "name": "stdout",
          "text": [
            "Epoch 1/40\n",
            "313/313 [==============================] - 9s 18ms/step - loss: 1.8433 - accuracy: 0.3135 - val_loss: 1.5003 - val_accuracy: 0.4542\n",
            "Epoch 2/40\n",
            "313/313 [==============================] - 5s 16ms/step - loss: 1.3654 - accuracy: 0.4975 - val_loss: 1.2722 - val_accuracy: 0.5473\n",
            "Epoch 3/40\n",
            "313/313 [==============================] - 5s 15ms/step - loss: 1.1706 - accuracy: 0.5770 - val_loss: 1.0444 - val_accuracy: 0.6282\n",
            "Epoch 4/40\n",
            "313/313 [==============================] - 5s 15ms/step - loss: 1.0411 - accuracy: 0.6276 - val_loss: 1.0504 - val_accuracy: 0.6306\n",
            "Epoch 5/40\n",
            "313/313 [==============================] - 5s 16ms/step - loss: 0.9399 - accuracy: 0.6655 - val_loss: 0.8663 - val_accuracy: 0.6936\n",
            "Epoch 6/40\n",
            "313/313 [==============================] - 5s 16ms/step - loss: 0.8701 - accuracy: 0.6911 - val_loss: 0.8474 - val_accuracy: 0.7032\n",
            "Epoch 7/40\n",
            "313/313 [==============================] - 5s 17ms/step - loss: 0.8028 - accuracy: 0.7172 - val_loss: 0.8255 - val_accuracy: 0.7130\n",
            "Epoch 8/40\n",
            "313/313 [==============================] - 5s 15ms/step - loss: 0.7594 - accuracy: 0.7319 - val_loss: 0.7816 - val_accuracy: 0.7290\n",
            "Epoch 9/40\n",
            "313/313 [==============================] - 5s 15ms/step - loss: 0.7093 - accuracy: 0.7505 - val_loss: 0.7649 - val_accuracy: 0.7280\n",
            "Epoch 10/40\n",
            "313/313 [==============================] - 5s 17ms/step - loss: 0.6741 - accuracy: 0.7622 - val_loss: 0.7141 - val_accuracy: 0.7541\n",
            "Epoch 11/40\n",
            "313/313 [==============================] - 5s 16ms/step - loss: 0.6371 - accuracy: 0.7767 - val_loss: 0.7509 - val_accuracy: 0.7404\n",
            "Epoch 12/40\n",
            "313/313 [==============================] - 5s 16ms/step - loss: 0.6031 - accuracy: 0.7872 - val_loss: 0.7064 - val_accuracy: 0.7590\n",
            "Epoch 13/40\n",
            "313/313 [==============================] - 5s 15ms/step - loss: 0.5846 - accuracy: 0.7928 - val_loss: 0.6953 - val_accuracy: 0.7623\n",
            "Epoch 14/40\n",
            "313/313 [==============================] - 5s 15ms/step - loss: 0.5556 - accuracy: 0.8043 - val_loss: 0.6990 - val_accuracy: 0.7673\n",
            "Epoch 15/40\n",
            "313/313 [==============================] - 5s 17ms/step - loss: 0.5379 - accuracy: 0.8095 - val_loss: 0.7039 - val_accuracy: 0.7628\n",
            "Epoch 16/40\n",
            "313/313 [==============================] - 5s 15ms/step - loss: 0.5095 - accuracy: 0.8191 - val_loss: 0.6750 - val_accuracy: 0.7720\n",
            "Epoch 17/40\n",
            "313/313 [==============================] - 5s 15ms/step - loss: 0.5007 - accuracy: 0.8227 - val_loss: 0.6810 - val_accuracy: 0.7731\n",
            "Epoch 18/40\n",
            "313/313 [==============================] - 5s 15ms/step - loss: 0.4809 - accuracy: 0.8300 - val_loss: 0.7022 - val_accuracy: 0.7709\n",
            "Epoch 19/40\n",
            "313/313 [==============================] - 5s 16ms/step - loss: 0.4670 - accuracy: 0.8331 - val_loss: 0.6940 - val_accuracy: 0.7710\n",
            "Epoch 20/40\n",
            "313/313 [==============================] - 5s 16ms/step - loss: 0.4407 - accuracy: 0.8422 - val_loss: 0.7147 - val_accuracy: 0.7629\n",
            "Epoch 21/40\n",
            "313/313 [==============================] - 5s 15ms/step - loss: 0.4362 - accuracy: 0.8453 - val_loss: 0.6982 - val_accuracy: 0.7672\n",
            "Epoch 22/40\n",
            "313/313 [==============================] - 5s 16ms/step - loss: 0.4129 - accuracy: 0.8542 - val_loss: 0.6732 - val_accuracy: 0.7809\n",
            "Epoch 23/40\n",
            "313/313 [==============================] - 5s 16ms/step - loss: 0.4011 - accuracy: 0.8579 - val_loss: 0.6962 - val_accuracy: 0.7788\n",
            "Epoch 24/40\n",
            "313/313 [==============================] - 5s 16ms/step - loss: 0.3896 - accuracy: 0.8618 - val_loss: 0.7323 - val_accuracy: 0.7660\n",
            "Epoch 25/40\n",
            "313/313 [==============================] - 5s 16ms/step - loss: 0.3838 - accuracy: 0.8628 - val_loss: 0.7113 - val_accuracy: 0.7761\n",
            "Epoch 26/40\n",
            "313/313 [==============================] - 5s 16ms/step - loss: 0.3732 - accuracy: 0.8672 - val_loss: 0.6979 - val_accuracy: 0.7782\n",
            "Epoch 27/40\n",
            "313/313 [==============================] - 5s 16ms/step - loss: 0.3605 - accuracy: 0.8715 - val_loss: 0.7111 - val_accuracy: 0.7820\n",
            "Epoch 28/40\n",
            "313/313 [==============================] - 5s 15ms/step - loss: 0.3591 - accuracy: 0.8720 - val_loss: 0.7081 - val_accuracy: 0.7852\n",
            "Epoch 29/40\n",
            "313/313 [==============================] - 5s 15ms/step - loss: 0.3347 - accuracy: 0.8819 - val_loss: 0.7365 - val_accuracy: 0.7838\n",
            "Epoch 30/40\n",
            "313/313 [==============================] - 5s 16ms/step - loss: 0.3384 - accuracy: 0.8790 - val_loss: 0.7200 - val_accuracy: 0.7775\n",
            "Epoch 31/40\n",
            "313/313 [==============================] - 5s 15ms/step - loss: 0.3297 - accuracy: 0.8831 - val_loss: 0.7192 - val_accuracy: 0.7889\n",
            "Epoch 32/40\n",
            "313/313 [==============================] - 5s 16ms/step - loss: 0.3251 - accuracy: 0.8829 - val_loss: 0.7025 - val_accuracy: 0.7876\n",
            "Epoch 33/40\n",
            "313/313 [==============================] - 5s 16ms/step - loss: 0.3102 - accuracy: 0.8911 - val_loss: 0.7147 - val_accuracy: 0.7824\n",
            "Epoch 34/40\n",
            "313/313 [==============================] - 5s 15ms/step - loss: 0.3060 - accuracy: 0.8902 - val_loss: 0.7335 - val_accuracy: 0.7808\n",
            "Epoch 35/40\n",
            "313/313 [==============================] - 5s 16ms/step - loss: 0.3020 - accuracy: 0.8909 - val_loss: 0.7238 - val_accuracy: 0.7828\n",
            "Epoch 36/40\n",
            "313/313 [==============================] - 5s 15ms/step - loss: 0.3009 - accuracy: 0.8899 - val_loss: 0.7477 - val_accuracy: 0.7833\n"
          ]
        }
      ]
    },
    {
      "cell_type": "markdown",
      "source": [
        "# 3. Exercise: evaluation on test data\n",
        "You will evaluate the classification of the test data using the common metrics and the confusion matrix in this section. \n",
        "\n",
        "\n",
        "As a first stes, let's run the predictions and convert the predicted softmax outputs to dense labels. The one-hot encoded labels are also converted back to dense labels, as they are required for the evaluation functions."
      ],
      "metadata": {
        "id": "2FtKp-a2-A9m"
      }
    },
    {
      "cell_type": "code",
      "source": [
        "probas = model.predict(X_test)\n",
        "preds  = np.argmax(probas,axis=1)\n",
        "Y_test_dense = np.argmax(Y_test, axis=1) # get the original dense labels of the test data"
      ],
      "metadata": {
        "id": "EcWAqwlDMq3y",
        "colab": {
          "base_uri": "https://localhost:8080/"
        },
        "outputId": "09fb73db-48fa-431c-defa-93757eb93f38"
      },
      "execution_count": 137,
      "outputs": [
        {
          "output_type": "stream",
          "name": "stdout",
          "text": [
            "313/313 [==============================] - 1s 2ms/step\n"
          ]
        }
      ]
    },
    {
      "cell_type": "markdown",
      "source": [
        "## 3.1. Exercise: Metrics\n",
        "please review the common classification metrics (accuracy, precision, recall, F1) for the complete model (not per class). \n",
        "\n",
        "Hints:\n",
        "* use macro averaging\n",
        "* you have to import the right functions from [sklearn.metrics](https://scikit-learn.org/stable/modules/model_evaluation.html)\n"
      ],
      "metadata": {
        "id": "RWJ-PH_iMs9K"
      }
    },
    {
      "cell_type": "code",
      "source": [
        "from sklearn.metrics import accuracy_score, recall_score, precision_score, f1_score"
      ],
      "metadata": {
        "id": "5sKm5zHSMZ_x"
      },
      "execution_count": 149,
      "outputs": []
    },
    {
      "cell_type": "markdown",
      "source": [],
      "metadata": {
        "id": "EaA3mbKXKVic"
      }
    },
    {
      "cell_type": "code",
      "source": [
        "print(\"Accuracy: \",accuracy_score(Y_test_dense, preds))\n",
        "print(\"Precision: \",precision_score(Y_test_dense, preds, average='macro'))\n",
        "print(\"Recall: \", recall_score(Y_test_dense, preds, average='macro'))\n",
        "print(\"F1: \",f1_score(Y_test_dense, preds, average='macro'))"
      ],
      "metadata": {
        "id": "I3_9wgDREUna",
        "colab": {
          "base_uri": "https://localhost:8080/"
        },
        "outputId": "ebb771c2-3ac2-4b34-b69c-cdc8bf3b75eb"
      },
      "execution_count": 153,
      "outputs": [
        {
          "output_type": "stream",
          "name": "stdout",
          "text": [
            "Accuracy:  0.7722\n",
            "Precision:  0.7714189226147338\n",
            "Recall:  0.7722\n",
            "F1:  0.7707807483081932\n"
          ]
        }
      ]
    },
    {
      "cell_type": "markdown",
      "source": [
        "\n",
        "## 3.2. Exercise: Confusion matrix\n",
        "Calculate the confusion matrix and display the results in a heatmap (with decimal values).\n",
        "\n",
        "Hints:\n",
        "* you have to do the imports this time too, e.g. from [sklearn.metrics](https://scikit-learn.org/stable/modules/model_evaluation.html) and the [heatmap function](https://seaborn.pydata.org/generated/seaborn.heatmap.html) of [seaborn](https://seaborn.pydata.org/)\n",
        "* for displaying the decimal values, you have to turn annot=True and define fmt='d' in the heatmap function of seaborn"
      ],
      "metadata": {
        "id": "ECHguBFtGL7f"
      }
    },
    {
      "cell_type": "code",
      "source": [
        "from sklearn.metrics import confusion_matrix\n",
        "import seaborn as sns"
      ],
      "metadata": {
        "id": "SIi2VzMBO3yD"
      },
      "execution_count": 145,
      "outputs": []
    },
    {
      "cell_type": "code",
      "metadata": {
        "id": "cdqODx92Svw7",
        "colab": {
          "base_uri": "https://localhost:8080/",
          "height": 640
        },
        "outputId": "7817fcd7-fb71-48f3-8abb-89569473a45d"
      },
      "source": [
        "conf = confusion_matrix(Y_test_dense, preds)\n",
        "\n",
        "sns.heatmap(conf, fmt='d', )\n",
        "plt.figure(figsize=(7,6))\n",
        "sns.heatmap(conf, fmt='d', annot=True)"
      ],
      "execution_count": 154,
      "outputs": [
        {
          "output_type": "execute_result",
          "data": {
            "text/plain": [
              "<Axes: >"
            ]
          },
          "metadata": {},
          "execution_count": 154
        },
        {
          "output_type": "display_data",
          "data": {
            "text/plain": [
              "<Figure size 432x288 with 2 Axes>"
            ],
            "image/png": "[encoded data removed]"
          },
          "metadata": {
            "needs_background": "light"
          }
        },
        {
          "output_type": "display_data",
          "data": {
            "text/plain": [
              "<Figure size 504x432 with 2 Axes>"
            ],
            "image/png": "[encoded data removed]"
          },
          "metadata": {
            "needs_background": "light"
          }
        }
      ]
    },
    {
      "cell_type": "code",
      "source": [],
      "metadata": {
        "id": "O5GTLmqaJgFq"
      },
      "execution_count": null,
      "outputs": []
    }
  ]
}